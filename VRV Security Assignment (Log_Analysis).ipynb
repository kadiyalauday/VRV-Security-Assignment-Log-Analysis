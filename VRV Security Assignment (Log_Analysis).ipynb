{
 "cells": [
  {
   "cell_type": "code",
   "execution_count": 29,
   "id": "e0b33a79",
   "metadata": {},
   "outputs": [
    {
     "name": "stdout",
     "output_type": "stream",
     "text": [
      "      IP address  Request count\n",
      "0    203.0.113.5              8\n",
      "1  198.51.100.23              8\n",
      "2    192.168.1.1              7\n",
      "3       10.0.0.2              6\n",
      "4  192.168.1.100              5 \n",
      "\n",
      "Most Frequently Accessed Endpoint:\n",
      "/login (Accessed 13 times)\n",
      "\n",
      "Suspicious Activity Detected:\n",
      "       IP address  Failed Login Count\n",
      "0    203.0.113.5                   8\n",
      "1  192.168.1.100                   5\n"
     ]
    }
   ],
   "source": [
    "# Importing required libraries\n",
    "import pandas as pd\n",
    "import re\n",
    "\n",
    "# Context Manager for file handling\n",
    "# Reading the log file into a string\n",
    "with open(\"Sample.log\", \"r\") as file:\n",
    "    sample_log = file.read()\n",
    "\n",
    "# Extracting necessary information from log data using regular expressions\n",
    "IP_Address = re.findall(r\"(\\d.*)\\ \\-\\ \\-\", sample_log)  # Extract IP addresses\n",
    "endpoint = re.findall(r\"\\ (\\/\\S.+)\\ H\", sample_log)  # Extract endpoints\n",
    "status_code = re.findall(r\"\\\"\\ (\\d+)\", sample_log)  # Extract status codes\n",
    "\n",
    "# Adding a message column based on the status code\n",
    "message = []\n",
    "for code in status_code:\n",
    "    if code != '200':\n",
    "        message.append(\"Invalid Credentials\")\n",
    "    else:\n",
    "        message.append(\"Valid\")\n",
    "\n",
    "# Creating a DataFrame to organize the extracted data\n",
    "Data = pd.DataFrame({\n",
    "    \"IP address\": IP_Address,\n",
    "    \"endpoint\": endpoint,\n",
    "    \"status_code\": status_code,\n",
    "    \"message\": message\n",
    "})\n",
    "\n",
    "# Analyzing requests per IP address\n",
    "IP_counts = Data[\"IP address\"].value_counts(ascending=False).reset_index()\n",
    "IP_counts.columns = [\"IP address\", \"Request count\"]\n",
    "print(IP_counts, \"\\n\")\n",
    "\n",
    "# Analyzing most frequently accessed endpoint\n",
    "endpoint_access_count = Data[\"endpoint\"].value_counts(ascending=False).reset_index()\n",
    "endpoint_access_count.columns = [\"Endpoint\", \"Access Count\"]\n",
    "print(f\"Most Frequently Accessed Endpoint:\\n{endpoint_access_count['Endpoint'][0]} (Accessed {endpoint_access_count['Access Count'][0]} times)\\n\")\n",
    "\n",
    "# Identifying suspicious activity (failed login attempts)\n",
    "failed_attempts = Data[Data[\"status_code\"] == \"401\"][\"IP address\"].value_counts(ascending=False).reset_index()\n",
    "failed_attempts.columns = [\"IP address\", \"Failed Login Count\"]\n",
    "print(\"Suspicious Activity Detected:\\n\", failed_attempts)\n",
    "\n",
    "# Exporting analysis results to an Excel file\n",
    "with pd.ExcelWriter(\"log_analysis_results.xlsx\") as writer:\n",
    "    IP_counts.to_excel(writer, sheet_name=\"Requests per IP\", index=False)\n",
    "    endpoint_access_count.to_excel(writer, sheet_name=\"Most Accessed Endpoint\", index=False)\n",
    "    failed_attempts.to_excel(writer, sheet_name=\"Suspicious Activity\", index=False)\n"
   ]
  }
 ],
 "metadata": {
  "kernelspec": {
   "display_name": "Python 3 (ipykernel)",
   "language": "python",
   "name": "python3"
  },
  "language_info": {
   "codemirror_mode": {
    "name": "ipython",
    "version": 3
   },
   "file_extension": ".py",
   "mimetype": "text/x-python",
   "name": "python",
   "nbconvert_exporter": "python",
   "pygments_lexer": "ipython3",
   "version": "3.11.4"
  }
 },
 "nbformat": 4,
 "nbformat_minor": 5
}
